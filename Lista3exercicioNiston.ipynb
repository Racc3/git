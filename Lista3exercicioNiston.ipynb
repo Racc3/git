{
  "nbformat": 4,
  "nbformat_minor": 0,
  "metadata": {
    "colab": {
      "provenance": [],
      "authorship_tag": "ABX9TyMqLDqPQjM/5t/myQN11bms",
      "include_colab_link": true
    },
    "kernelspec": {
      "name": "python3",
      "display_name": "Python 3"
    },
    "language_info": {
      "name": "python"
    }
  },
  "cells": [
    {
      "cell_type": "markdown",
      "metadata": {
        "id": "view-in-github",
        "colab_type": "text"
      },
      "source": [
        "<a href=\"https://colab.research.google.com/github/Racc3/git/blob/main/Lista3exercicioNiston.ipynb\" target=\"_parent\"><img src=\"https://colab.research.google.com/assets/colab-badge.svg\" alt=\"Open In Colab\"/></a>"
      ]
    },
    {
      "cell_type": "code",
      "execution_count": 1,
      "metadata": {
        "id": "UUiBEkJ1iSSz",
        "colab": {
          "base_uri": "https://localhost:8080/"
        },
        "outputId": "a99d2c1f-fd5d-4550-af8f-8b31ea6a46f4"
      },
      "outputs": [
        {
          "output_type": "stream",
          "name": "stdout",
          "text": [
            "5\n"
          ]
        }
      ],
      "source": [
        "'''Escreva um programa que cria uma lista de números inteiros e exibe o maior número da lista.'''\n",
        "\n",
        "lista = [2,3,1,4,5,0]\n",
        "\n",
        "print(max(lista))\n",
        "\n"
      ]
    },
    {
      "cell_type": "code",
      "source": [
        "'''Escreva um programa que cria uma lista de nomes e exibe o número total de nomes na lista.'''\n",
        "\n",
        "lista = ['Jose','Joao','Pedro','Maria','Matilda']\n",
        "\n",
        "print(len(lista))"
      ],
      "metadata": {
        "colab": {
          "base_uri": "https://localhost:8080/"
        },
        "id": "xMS3lb85gSCd",
        "outputId": "654cfe59-eaa0-431c-fba9-66286d0cfb5b"
      },
      "execution_count": 3,
      "outputs": [
        {
          "output_type": "stream",
          "name": "stdout",
          "text": [
            "5\n"
          ]
        }
      ]
    },
    {
      "cell_type": "code",
      "source": [
        "'''Escreva um programa que cria uma lista de números inteiros e exibe a soma de todos os números da\n",
        "lista.'''\n",
        "\n",
        "lista = [2,3,1,4,5,0]\n",
        "\n",
        "print(sum(lista))"
      ],
      "metadata": {
        "colab": {
          "base_uri": "https://localhost:8080/"
        },
        "id": "s3lwP7YOgz4R",
        "outputId": "70aae421-2416-490e-e799-2bd351ed2905"
      },
      "execution_count": 4,
      "outputs": [
        {
          "output_type": "stream",
          "name": "stdout",
          "text": [
            "15\n"
          ]
        }
      ]
    },
    {
      "cell_type": "code",
      "source": [
        "'''Escreva um programa que cria uma lista de números inteiros e exibe a média dos números da lista.'''\n",
        "\n",
        "lista = [2,3,1,4,5,0]\n",
        "\n",
        "print((sum(lista))/(len(lista)))"
      ],
      "metadata": {
        "colab": {
          "base_uri": "https://localhost:8080/"
        },
        "id": "4SMC3s3IhB7M",
        "outputId": "025c186c-1ec0-4e6d-f66c-8d13af56ad09"
      },
      "execution_count": 5,
      "outputs": [
        {
          "output_type": "stream",
          "name": "stdout",
          "text": [
            "2.5\n"
          ]
        }
      ]
    },
    {
      "cell_type": "code",
      "source": [
        "'''Escreva um programa que cria uma lista de palavras e exibe a quantidade de palavras que começam\n",
        "com a letra 'A'.'''\n",
        "\n",
        "lista = ['Matilda','Andre','Abel','Jose','Maria','Carlos']\n",
        "count = 0\n",
        "for nomes in lista:\n",
        "  if nomes[0] == 'A':\n",
        "    count +=1\n",
        "    print(nomes)\n",
        "\n",
        "print(count)"
      ],
      "metadata": {
        "colab": {
          "base_uri": "https://localhost:8080/"
        },
        "id": "NIuuCdIbhiNY",
        "outputId": "4a8124db-55e6-403a-c5f8-f642a6f0c7ce"
      },
      "execution_count": 14,
      "outputs": [
        {
          "output_type": "stream",
          "name": "stdout",
          "text": [
            "Andre\n",
            "Abel\n",
            "2\n"
          ]
        }
      ]
    },
    {
      "cell_type": "code",
      "source": [
        "'''Escreva um programa que cria uma lista de strings e exibe a mais longa palavra da lista.'''\n",
        "\n",
        "lista = ['Awmdowamdo','owamoa','aoeda','xxxxxxxxxxxxxxxxxxxxx','owdkwoak','woadwa']\n",
        "\n",
        "lista.sort()\n",
        "\n",
        "print(lista[-1])\n",
        "\n"
      ],
      "metadata": {
        "colab": {
          "base_uri": "https://localhost:8080/"
        },
        "id": "58pO9yB_kHiV",
        "outputId": "efe230cb-c3fc-4d8a-92c6-4a3cd84a2fbf"
      },
      "execution_count": 16,
      "outputs": [
        {
          "output_type": "stream",
          "name": "stdout",
          "text": [
            "xxxxxxxxxxxxxxxxxxxxx\n"
          ]
        }
      ]
    },
    {
      "cell_type": "code",
      "source": [
        "'''Escreva um programa que cria uma lista de números inteiros e exibe os números pares da lista.'''\n",
        "\n",
        "lista = [2,1,3,5,4,7,6,8,9,0]\n",
        "\n",
        "for num in lista:\n",
        "  if num %2 == 0:\n",
        "    print(num)"
      ],
      "metadata": {
        "colab": {
          "base_uri": "https://localhost:8080/"
        },
        "id": "tcCQAEfSk7RT",
        "outputId": "1bf8f64c-20a8-4349-a598-31b39fe2bb66"
      },
      "execution_count": 19,
      "outputs": [
        {
          "output_type": "stream",
          "name": "stdout",
          "text": [
            "2\n",
            "4\n",
            "6\n",
            "8\n",
            "0\n"
          ]
        }
      ]
    },
    {
      "cell_type": "code",
      "source": [
        "'''Escreva um programa que cria uma lista de números inteiros e exibe os números ímpares da lista.'''\n",
        "\n",
        "lista = [2,1,4,3,6,5,8,7,0,9]\n",
        "\n",
        "for num in lista:\n",
        "  if num %2 != 0:\n",
        "    print(num)\n",
        "\n",
        ""
      ],
      "metadata": {
        "colab": {
          "base_uri": "https://localhost:8080/"
        },
        "id": "AtuWaYIZle1N",
        "outputId": "887b7c97-918a-44b1-cf84-9b17abbfabd9"
      },
      "execution_count": 20,
      "outputs": [
        {
          "output_type": "stream",
          "name": "stdout",
          "text": [
            "1\n",
            "3\n",
            "5\n",
            "7\n",
            "9\n"
          ]
        }
      ]
    },
    {
      "cell_type": "code",
      "source": [
        "'''Escreva um programa que cria duas listas de números inteiros e exibe os números que estão presentes\n",
        "em ambas as listas.'''\n",
        "\n",
        "lista = [1,4,8,16,32]\n",
        "lista2 = [1,8,24]\n",
        "\n",
        "for num in lista:\n",
        "  if num in lista2:\n",
        "    print(num)"
      ],
      "metadata": {
        "colab": {
          "base_uri": "https://localhost:8080/"
        },
        "id": "obdY90z6mcqO",
        "outputId": "d6a90b4f-d68f-4f20-c394-31b51c9ad929"
      },
      "execution_count": 28,
      "outputs": [
        {
          "output_type": "stream",
          "name": "stdout",
          "text": [
            "1\n",
            "8\n"
          ]
        }
      ]
    },
    {
      "cell_type": "code",
      "source": [
        "'''Escreva um programa que cria uma lista de números inteiros e remove todos os números repetidos,\n",
        "exibindo a lista resultante.'''\n",
        "\n",
        "lista = [1,4,8,16,32,1,8,24]\n",
        "\n",
        "lista2 = set()\n",
        "\n",
        "for num in lista:\n",
        "  lista2.add(num)\n",
        "\n",
        "print(lista2)\n",
        "\n",
        "\n",
        "\n"
      ],
      "metadata": {
        "colab": {
          "base_uri": "https://localhost:8080/"
        },
        "id": "A-Gf_tNboRZJ",
        "outputId": "294fa224-d143-4cc0-8eb4-76a207ac75f6"
      },
      "execution_count": 53,
      "outputs": [
        {
          "output_type": "stream",
          "name": "stdout",
          "text": [
            "{32, 1, 4, 8, 16, 24}\n"
          ]
        }
      ]
    }
  ]
}