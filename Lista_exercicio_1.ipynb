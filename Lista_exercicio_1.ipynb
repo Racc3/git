{
  "nbformat": 4,
  "nbformat_minor": 0,
  "metadata": {
    "colab": {
      "provenance": [],
      "authorship_tag": "ABX9TyOC2bJ60doxMpuFIr1MmqjK",
      "include_colab_link": true
    },
    "kernelspec": {
      "name": "python3",
      "display_name": "Python 3"
    },
    "language_info": {
      "name": "python"
    }
  },
  "cells": [
    {
      "cell_type": "markdown",
      "metadata": {
        "id": "view-in-github",
        "colab_type": "text"
      },
      "source": [
        "<a href=\"https://colab.research.google.com/github/Racc3/git/blob/main/Lista_exercicio_1.ipynb\" target=\"_parent\"><img src=\"https://colab.research.google.com/assets/colab-badge.svg\" alt=\"Open In Colab\"/></a>"
      ]
    },
    {
      "cell_type": "code",
      "execution_count": 1,
      "metadata": {
        "colab": {
          "base_uri": "https://localhost:8080/"
        },
        "id": "q3Pp9x155Uvh",
        "outputId": "c8c422cc-a10a-4674-81c4-be1c8e471b51"
      },
      "outputs": [
        {
          "output_type": "stream",
          "name": "stdout",
          "text": [
            "Digite um número:2\n",
            "número é par\n"
          ]
        }
      ],
      "source": [
        "#Crie um programa que determine se um número inserido pelo usuário é par ou ímpar.\n",
        "num = int(input('Digite um número:'))\n",
        "\n",
        "if num % 2 == 0:\n",
        "    print('número é par')\n",
        "else:\n",
        "    print('número é impar')"
      ]
    },
    {
      "cell_type": "code",
      "source": [
        "'''Escreva um programa que solicite um número ao usuário e imprima todos os números pares desse número até 0.\n",
        "'''\n",
        "lista = []\n",
        "num = int(input('Digite um número'))\n",
        "lista.append(num)\n",
        "\n",
        "if num % 2 == 0:\n",
        "    for lista in range(0,num,2):\n",
        "        print(lista)\n",
        "else:\n",
        "    for lista in range(0,num+1,2):\n",
        "        print(lista)"
      ],
      "metadata": {
        "colab": {
          "base_uri": "https://localhost:8080/"
        },
        "id": "SKHX3oYr5wB0",
        "outputId": "710be6b5-0b3a-4f33-eb1b-4dd9280a7e4b"
      },
      "execution_count": 2,
      "outputs": [
        {
          "output_type": "stream",
          "name": "stdout",
          "text": [
            "Digite um número10\n",
            "0\n",
            "2\n",
            "4\n",
            "6\n",
            "8\n"
          ]
        }
      ]
    },
    {
      "cell_type": "code",
      "source": [
        "#Faça um programa que leia uma lista de números e retorne a média dos números pares.\n",
        "\n",
        "from random import randint\n",
        "lista = []\n",
        "listapar = []\n",
        "\n",
        "while len(lista) <= 4:\n",
        "    i = randint(1,100)\n",
        "    lista.append(i)\n",
        "\n",
        "lista.sort()\n",
        "print(lista)\n",
        "\n",
        "for i in lista:\n",
        "    if i % 2 == 0:\n",
        "        listapar.append(i)\n",
        "\n",
        "print(sum(listapar)/len(listapar))"
      ],
      "metadata": {
        "id": "keBUSVn071ct"
      },
      "execution_count": null,
      "outputs": []
    },
    {
      "cell_type": "code",
      "source": [
        "#Crie um programa que imprima a sequência de Fibonacci até um valor inserido pelo usuário.\n",
        "\n",
        "num = int(input(\"Digite um número: \"))\n",
        "n1 = 0\n",
        "n2 = 1\n",
        "lista = []\n",
        "n3 = 0\n",
        "lista.append(n1), lista.append(n2)\n",
        "while n3 < num:\n",
        "    n3 = n1 + n2\n",
        "    n1 = n2\n",
        "    n2 = n3\n",
        "    lista.append(n3)\n",
        "    print(lista)\n",
        "print(lista)"
      ],
      "metadata": {
        "id": "5mytIrPv8TvO"
      },
      "execution_count": null,
      "outputs": []
    },
    {
      "cell_type": "code",
      "source": [
        "#Faça um programa que determine se um número é primo ou não.\n",
        "num = int(input(\"Digite um número: \"))\n",
        "\n",
        "if num % 2 == 0 or num % 3 == 0 or num % 5 == 0:\n",
        "    print(f'O {num} não é primo')\n",
        "else:\n",
        "    print(f'O {num} é primo')"
      ],
      "metadata": {
        "id": "lZrot8uh8XAW"
      },
      "execution_count": null,
      "outputs": []
    },
    {
      "cell_type": "code",
      "source": [
        "'''Escreva um programa que leia uma lista de nomes e retorne uma nova lista com apenas os nomes que\n",
        "começam com a letra 'A'.'''\n",
        "\n",
        "lista = ['Joao', 'Jose', 'Antonio', 'Abel', 'Maria', 'Rebeca', 'Gabriel', 'Levi', 'Davi', 'Adriele', 'Miguel', 'Andre']\n",
        "\n",
        "for nome in lista:\n",
        "  if(nome[0] == 'A'):\n",
        "    print(nome)"
      ],
      "metadata": {
        "id": "qcfFNLWg8Yge"
      },
      "execution_count": null,
      "outputs": []
    },
    {
      "cell_type": "code",
      "source": [
        "import random\n",
        "'''Crie um programa que simule o jogo \"Pedra, Papel e Tesoura\" entre o usuário e o computador. O\n",
        "programa deve solicitar a escolha do usuário e, em seguida, escolher aleatoriamente a escolha do\n",
        "computador e determinar o vencedor.'''\n",
        "\n",
        "lista = ['pedra','papel','tesoura']\n",
        "\n",
        "a = (random.choice(lista))\n",
        "b = input(\"Escolha pedra, papel ou tesoura: \")\n",
        "b = b.lower()\n",
        "\n",
        "if a == b:\n",
        "    print(\"empatou\")\n",
        "elif a == 'pedra' and b == 'tesoura' or a == 'papel' and b =='pedra' or a =='tesoura' and b == 'papel':\n",
        "    print(\"Voce perdeu\")\n",
        "else:\n",
        "    print(\"voce ganhou\")\n",
        "\n",
        "print(f\"O computador escolheu {a} e voce escolheu {b}\")"
      ],
      "metadata": {
        "colab": {
          "base_uri": "https://localhost:8080/"
        },
        "id": "GmgYcxv08aVO",
        "outputId": "b22aa389-294a-4cc5-dca8-a8bd2891358f"
      },
      "execution_count": 7,
      "outputs": [
        {
          "output_type": "stream",
          "name": "stdout",
          "text": [
            "Escolha pedra, papel ou tesoura: pedra\n",
            "Voce perdeu\n",
            "O computador escolheu papel e voce escolheu pedra\n"
          ]
        }
      ]
    },
    {
      "cell_type": "code",
      "source": [
        "from random import randint\n",
        "lista = []\n",
        "\n",
        "while len(lista) <= 4:\n",
        "    i = randint(1,100)\n",
        "    lista.append(i)\n",
        "\n",
        "lista.sort()\n",
        "print(lista)\n",
        "\n",
        "print(lista[0], lista[-1])"
      ],
      "metadata": {
        "colab": {
          "base_uri": "https://localhost:8080/"
        },
        "id": "7m-oLcWe57tp",
        "outputId": "9827d82c-c57c-4afa-9966-270cbee86757"
      },
      "execution_count": 3,
      "outputs": [
        {
          "output_type": "stream",
          "name": "stdout",
          "text": [
            "[18, 26, 27, 76, 79]\n",
            "18 79\n"
          ]
        }
      ]
    },
    {
      "cell_type": "code",
      "source": [],
      "metadata": {
        "id": "eD936jwg6DMB"
      },
      "execution_count": null,
      "outputs": []
    },
    {
      "cell_type": "code",
      "source": [
        "#Escreva um programa que peça um número inteiro positivo ao usuário e calcule o fatorial desse número.\n",
        "\n",
        "num = int(input('Digite um número: '))\n",
        "fat = 1\n",
        "\n",
        "\n",
        "for i in range(num,0,-1):\n",
        "    fat = fat * i\n",
        "\n",
        "print(fat)"
      ],
      "metadata": {
        "colab": {
          "base_uri": "https://localhost:8080/"
        },
        "id": "mpu49ie56xF_",
        "outputId": "c25fd26b-9b7d-48a7-f9d6-e664732010fb"
      },
      "execution_count": 5,
      "outputs": [
        {
          "output_type": "stream",
          "name": "stdout",
          "text": [
            "Digite um número: 5\n",
            "120\n"
          ]
        }
      ]
    },
    {
      "cell_type": "code",
      "source": [
        "num = int(input('Digite um número: '))\n",
        "fat = 1\n",
        "\n",
        "\n",
        "for i in range(num+1):\n",
        "    fat = fat + (i - 1) + (i-2)\n",
        "    print(i, '-', fat)"
      ],
      "metadata": {
        "colab": {
          "base_uri": "https://localhost:8080/"
        },
        "id": "Dg-raQ447EMG",
        "outputId": "c785cdae-307d-4aba-c922-380d83fb488c"
      },
      "execution_count": 6,
      "outputs": [
        {
          "output_type": "stream",
          "name": "stdout",
          "text": [
            "Digite um número: 15\n",
            "0 - -2\n",
            "1 - -3\n",
            "2 - -2\n",
            "3 - 1\n",
            "4 - 6\n",
            "5 - 13\n",
            "6 - 22\n",
            "7 - 33\n",
            "8 - 46\n",
            "9 - 61\n",
            "10 - 78\n",
            "11 - 97\n",
            "12 - 118\n",
            "13 - 141\n",
            "14 - 166\n",
            "15 - 193\n"
          ]
        }
      ]
    }
  ]
}