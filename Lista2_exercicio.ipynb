{
  "nbformat": 4,
  "nbformat_minor": 0,
  "metadata": {
    "colab": {
      "provenance": [],
      "authorship_tag": "ABX9TyNarkxUUDsH2wErp8zurNdw",
      "include_colab_link": true
    },
    "kernelspec": {
      "name": "python3",
      "display_name": "Python 3"
    },
    "language_info": {
      "name": "python"
    }
  },
  "cells": [
    {
      "cell_type": "markdown",
      "metadata": {
        "id": "view-in-github",
        "colab_type": "text"
      },
      "source": [
        "<a href=\"https://colab.research.google.com/github/Racc3/git/blob/main/Lista2_exercicio.ipynb\" target=\"_parent\"><img src=\"https://colab.research.google.com/assets/colab-badge.svg\" alt=\"Open In Colab\"/></a>"
      ]
    },
    {
      "cell_type": "code",
      "execution_count": null,
      "metadata": {
        "colab": {
          "base_uri": "https://localhost:8080/"
        },
        "id": "UO9V_iyO-POB",
        "outputId": "e8d764b9-4467-4413-dcb0-ae675bb15847"
      },
      "outputs": [
        {
          "output_type": "stream",
          "name": "stdout",
          "text": [
            "25.132741228718345\n"
          ]
        }
      ],
      "source": [
        "'''Crie uma classe chamada “Circulo” que tenha um atributo “raio”. Implemente um método chamado\n",
        "“calcular_area” que retorna a área do círculo.'''\n",
        "\n",
        "import math\n",
        "\n",
        "\n",
        "class Area_Circulo:\n",
        "  def calcular_area(self,raio):\n",
        "\n",
        "    return (2*math.pi)*(raio**raio)\n",
        "\n",
        "area = Area_Circulo()\n",
        "print(area.calcular_area(2))"
      ]
    },
    {
      "cell_type": "code",
      "source": [],
      "metadata": {
        "id": "ZHg3JRfRUKwq"
      },
      "execution_count": null,
      "outputs": []
    },
    {
      "cell_type": "code",
      "source": [
        "'''Crie uma classe chamada “Livro” que tenha atributos “titulo” e “autor”. Implemente um método\n",
        "chamado “detalhes” que retorna uma string com as informações do livro.'''\n",
        "\n",
        "class Livro:\n",
        "  def __init__ (self,titulo,autor):\n",
        "    self.titulo = titulo\n",
        "    self.autor = autor\n",
        "    print(self.titulo,\"é o título do livro e\", self.autor,\"foi o autor\")\n",
        "\n",
        "\n",
        "livro1 = Livro('Sitio do Pica pau Amarelo','Monteiro Lobato')\n"
      ],
      "metadata": {
        "colab": {
          "base_uri": "https://localhost:8080/"
        },
        "id": "UPx6gXJnUQIZ",
        "outputId": "fce09019-f4e7-4ccb-d203-9cf7bfe0b6b8"
      },
      "execution_count": null,
      "outputs": [
        {
          "output_type": "stream",
          "name": "stdout",
          "text": [
            "Sitio do Pica pau Amarelo é o título do livro e Monteiro Lobato foi o autor\n"
          ]
        }
      ]
    },
    {
      "cell_type": "code",
      "source": [
        "'''Crie uma classe chamada “Retangulo” que tenha atributos “base” e “altura”. Implemente um método\n",
        "chamado “calcular_area” que retorna a área do retângulo.'''\n",
        "\n",
        "class Retangulo:\n",
        "  def Calculararea(self,base,altura):\n",
        "    return (base*altura)\n",
        "\n",
        "retangulo1 = Retangulo()\n",
        "print(retangulo1.Calculararea(2,4))"
      ],
      "metadata": {
        "colab": {
          "base_uri": "https://localhost:8080/"
        },
        "id": "ZYmZEQX23ovY",
        "outputId": "5de512c9-b8bf-4b6f-f035-68139968b1ca"
      },
      "execution_count": null,
      "outputs": [
        {
          "output_type": "stream",
          "name": "stdout",
          "text": [
            "8\n"
          ]
        }
      ]
    },
    {
      "cell_type": "code",
      "source": [
        "'''Crie uma classe chamada “ContaBancaria” que tenha atributos “saldo” e “titular”. Implemente\n",
        "métodos “depositar” e “sacar” para manipular o saldo.'''\n",
        "\n",
        "class Contabancaria:\n",
        "  def __init__(self,saldo,titular):\n",
        "    self.saldo = saldo\n",
        "    self.titular = titular\n",
        "  def depositar(self,valor):\n",
        "    self.valor = valor\n",
        "    self.saldo += valor\n",
        "    return (self.saldo)\n",
        "  def sacar(self,valor):\n",
        "    self.valor = valor\n",
        "    self.saldo -= valor\n",
        "    return (self.saldo)\n",
        "\n",
        "conta1 = Contabancaria(0, 'José')\n",
        "print (conta1.depositar(2000))\n",
        "\n",
        "print (conta1.sacar(1000))\n",
        "\n"
      ],
      "metadata": {
        "colab": {
          "base_uri": "https://localhost:8080/"
        },
        "id": "ITOTy5zE5EXQ",
        "outputId": "deb82693-455c-497e-c8ac-a30476bbaf81"
      },
      "execution_count": 27,
      "outputs": [
        {
          "output_type": "stream",
          "name": "stdout",
          "text": [
            "2000\n",
            "1000\n"
          ]
        }
      ]
    },
    {
      "cell_type": "code",
      "source": [
        "'''Crie uma classe chamada “Pessoa” com atributos “nome” e “idade”. Implemente um método\n",
        "chamado “falar” que imprime uma mensagem com o nome da pessoa.'''\n",
        "\n",
        "class Pessoa:\n",
        "  def __init__(self,nome,idade):\n",
        "    self.nome = nome\n",
        "    self.idade = idade\n",
        "  def falar(self,msg):\n",
        "    self.msg = msg\n",
        "    print({self.nome}, \"de\",{self.idade},\"anos, disse: \", {self.msg})\n",
        "\n",
        "pessoa1 = Pessoa('Carlos',23)\n",
        "pessoa1.falar('estou apenas testando')"
      ],
      "metadata": {
        "colab": {
          "base_uri": "https://localhost:8080/"
        },
        "id": "riThXhiyGBPf",
        "outputId": "ae551e6d-0979-4076-faf7-87c6d7cb6c84"
      },
      "execution_count": 30,
      "outputs": [
        {
          "output_type": "stream",
          "name": "stdout",
          "text": [
            "{'Carlos'} de {23} anos, disse:  {'estou apenas testando'}\n"
          ]
        }
      ]
    },
    {
      "cell_type": "code",
      "source": [
        "'''Crie uma classe chamada “Produto” com atributos “nome”, “preco” e “quantidade”. Implemente um\n",
        "método chamado “calcular_total” que retorna o valor total do produto (preço * quantidade).'''\n",
        "\n",
        "class Produto:\n",
        "  def __init__(self,nome,preco,quantidade):\n",
        "    self.nome = nome\n",
        "    self.preco = preco\n",
        "    self.quantidade = quantidade\n",
        "  def calcular_total(self):\n",
        "    return self.preco * self.quantidade\n",
        "\n",
        "fruta = Produto('laranga',1,100)\n",
        "fruta.calcular_total()"
      ],
      "metadata": {
        "colab": {
          "base_uri": "https://localhost:8080/"
        },
        "id": "6iGLviO_LIdt",
        "outputId": "24ed8e35-be36-4d1e-f13f-0ef40dcfb176"
      },
      "execution_count": 36,
      "outputs": [
        {
          "output_type": "execute_result",
          "data": {
            "text/plain": [
              "100"
            ]
          },
          "metadata": {},
          "execution_count": 36
        }
      ]
    },
    {
      "cell_type": "code",
      "source": [
        "'''Crie uma classe chamada “Carro” com atributos “marca”, “modelo” e “ano”. Implemente um método\n",
        "chamado “detalhes” que retorna uma string com as informações do carro.'''\n",
        "\n",
        "class Carro:\n",
        "  def detalhes(self,marca,modelo,ano):\n",
        "    self.marca = marca\n",
        "    self.modelo = modelo\n",
        "    self.ano = ano\n",
        "    print('O',self.modelo,'da montadora',self.marca,'fabricado em',self.ano,'é um bom carro.')\n",
        "\n",
        "carro1 = Carro()\n",
        "carro1.detalhes('Gurgel','Bugato',1971)"
      ],
      "metadata": {
        "colab": {
          "base_uri": "https://localhost:8080/"
        },
        "id": "5xbGHR_MSpT6",
        "outputId": "e562a3d7-d51a-496b-a72a-3b874a84f4f8"
      },
      "execution_count": 38,
      "outputs": [
        {
          "output_type": "stream",
          "name": "stdout",
          "text": [
            "O Bugato da montadora Gurgel fabricado em 1971 é um bom carro.\n"
          ]
        }
      ]
    },
    {
      "cell_type": "code",
      "source": [],
      "metadata": {
        "id": "usI7jPC2ZNsO"
      },
      "execution_count": null,
      "outputs": []
    },
    {
      "cell_type": "code",
      "source": [
        "'''Crie uma classe chamada “Aluno” com atributos “nome” e “notas”. Implemente um método chamado\n",
        "“calcular_media” que retorna a média das notas do aluno.'''\n",
        "\n",
        "\n",
        "class Aluno:\n",
        "  def __init__(self,nome,notas):\n",
        "    self.nome = nome\n",
        "    self.notas = notas\n",
        "  def Calcular_media(self):\n",
        "    for i in self.notas:\n",
        "      return sum(self.notas)/len(self.notas)\n",
        "\n",
        "aluno1 = Aluno('JOAO',[10,10,4])\n",
        "aluno1.Calcular_media()"
      ],
      "metadata": {
        "colab": {
          "base_uri": "https://localhost:8080/"
        },
        "id": "2yRqcAIwrR5m",
        "outputId": "da571534-83aa-41ba-c053-a47a76a535e5"
      },
      "execution_count": 40,
      "outputs": [
        {
          "output_type": "execute_result",
          "data": {
            "text/plain": [
              "8.0"
            ]
          },
          "metadata": {},
          "execution_count": 40
        }
      ]
    },
    {
      "cell_type": "code",
      "source": [
        "'''Crie uma classe chamada “Triangulo” com atributos “lado1”, “lado2” e “lado3”. Implemente um\n",
        "método chamado “calcular_perimetro” que retorna o perímetro do triângulo.'''\n",
        "\n",
        "class Triangulo:\n",
        "   def Calcular_perimetro(self,lado1,lado2,lado3):\n",
        "\n",
        "      return (lado1 + lado2 + lado3)\n",
        "\n",
        "forma1 = Triangulo()\n",
        "print(forma1.Calcular_perimetro(1,2,3))\n"
      ],
      "metadata": {
        "colab": {
          "base_uri": "https://localhost:8080/"
        },
        "id": "RqdXHrctMYD1",
        "outputId": "c701a753-1c91-4152-c90c-523bbd309bb5"
      },
      "execution_count": 49,
      "outputs": [
        {
          "output_type": "stream",
          "name": "stdout",
          "text": [
            "6\n"
          ]
        }
      ]
    },
    {
      "cell_type": "code",
      "source": [
        "'''Crie uma classe chamada “Funcionario” com atributos “nome”, “salario” e “cargo”. Implemente um\n",
        "método chamado “aumentar_salario” que recebe um valor percentual de aumento e atualiza o salário\n",
        "do funcionário.'''\n",
        "\n",
        "class Funcionario:\n",
        "  def __init__(self,nome,salario,cargo):\n",
        "    self.nome = nome\n",
        "    self.salario = salario\n",
        "    self.cargo = cargo\n",
        "\n",
        "  def aumentar_salario(self,aumento):\n",
        "    self.salario *= (1+aumento)\n",
        "    print('O novo salario do funcionario',{self.nome},'foi aumentado para',{self.salario})\n",
        "\n",
        "func123 = Funcionario('Carlos',1000,'Gerente')\n",
        "func123.aumentar_salario(0.10)"
      ],
      "metadata": {
        "colab": {
          "base_uri": "https://localhost:8080/"
        },
        "id": "gbP2I17ufHa_",
        "outputId": "2ddbe0bc-1ade-4685-f510-ac012def7c21"
      },
      "execution_count": 50,
      "outputs": [
        {
          "output_type": "stream",
          "name": "stdout",
          "text": [
            "O novo salario do funcionario {'Carlos'} foi aumentado para {1100.0}\n"
          ]
        }
      ]
    }
  ]
}